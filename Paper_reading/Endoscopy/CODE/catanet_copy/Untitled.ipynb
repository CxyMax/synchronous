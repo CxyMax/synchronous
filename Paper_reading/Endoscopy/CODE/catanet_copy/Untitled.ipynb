{
 "cells": [
  {
   "cell_type": "code",
   "execution_count": 2,
   "id": "47242cdb-58b0-439d-b001-36057873fe80",
   "metadata": {},
   "outputs": [],
   "source": [
    "import os\n",
    "import glob\n",
    "import subprocess\n",
    "import cv2\n",
    "import pandas as pd\n",
    "import numpy as np\n",
    "import argparse\n",
    "import warnings\n",
    "import tempfile"
   ]
  },
  {
   "cell_type": "code",
   "execution_count": 7,
   "id": "4a6c3a62-858e-4174-aa5c-30d2b10b1d87",
   "metadata": {},
   "outputs": [],
   "source": [
    "a = os.path.basename('../cataract-101/cataract-101/videos\\\\case_269.mp4')"
   ]
  },
  {
   "cell_type": "code",
   "execution_count": 15,
   "id": "8bda0c05-0fd1-40e2-b5f9-2bca3cc477aa",
   "metadata": {},
   "outputs": [
    {
     "data": {
      "text/plain": [
       "array([1., 1., 1., 0.])"
      ]
     },
     "execution_count": 15,
     "metadata": {},
     "output_type": "execute_result"
    }
   ],
   "source": [
    "np.concatenate((np.ones(3), [0]))"
   ]
  },
  {
   "cell_type": "code",
   "execution_count": 13,
   "id": "ac6eb0cf-51a5-4346-9e83-7f2e3e3034e0",
   "metadata": {},
   "outputs": [
    {
     "data": {
      "text/plain": [
       "True"
      ]
     },
     "execution_count": 13,
     "metadata": {},
     "output_type": "execute_result"
    }
   ],
   "source": [
    "os.path.isdir('./videos')"
   ]
  },
  {
   "cell_type": "code",
   "execution_count": null,
   "id": "d9e4c13b-fec5-4a68-89d5-85082eead9e4",
   "metadata": {},
   "outputs": [],
   "source": []
  }
 ],
 "metadata": {
  "kernelspec": {
   "display_name": "d2l_cuda",
   "language": "python",
   "name": "d2l_cuda"
  },
  "language_info": {
   "codemirror_mode": {
    "name": "ipython",
    "version": 3
   },
   "file_extension": ".py",
   "mimetype": "text/x-python",
   "name": "python",
   "nbconvert_exporter": "python",
   "pygments_lexer": "ipython3",
   "version": "3.9.19"
  }
 },
 "nbformat": 4,
 "nbformat_minor": 5
}
