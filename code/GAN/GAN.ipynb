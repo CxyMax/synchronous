{
 "cells": [
  {
   "cell_type": "code",
   "execution_count": 1,
   "id": "c432370c-5ff7-4a15-9eea-96733d4a1ea7",
   "metadata": {},
   "outputs": [],
   "source": [
    "import torch\n",
    "import torchvision\n",
    "import torch.nn as nn\n",
    "import numpy as np\n",
    "from d2l import torch as d2l\n",
    "import matplotlib.pyplot as plt"
   ]
  },
  {
   "cell_type": "markdown",
   "id": "1cb353cb-da56-4903-9fbc-cd371c81b4d7",
   "metadata": {},
   "source": [
    "### Load Dataset"
   ]
  },
  {
   "cell_type": "code",
   "execution_count": 2,
   "id": "c32e5ded-30dd-46e4-a443-996ff4d1a5a3",
   "metadata": {
    "scrolled": true
   },
   "outputs": [],
   "source": [
    "# ToTensor()会转到[0,1]\n",
    "trans = torchvision.transforms.Compose([torchvision.transforms.ToTensor()])\n",
    "dataset = torchvision.datasets.MNIST(\"mnist_data\", train=True, download=False,transform=trans)"
   ]
  },
  {
   "cell_type": "code",
   "execution_count": 3,
   "id": "cc51fee2-cb04-4851-9f3b-80c5f24c03ee",
   "metadata": {},
   "outputs": [],
   "source": [
    "batchsize = 32\n",
    "dataloader = torch.utils.data.DataLoader(dataset, batch_size=batchsize, shuffle=True)"
   ]
  },
  {
   "cell_type": "code",
   "execution_count": 4,
   "id": "42c7bf8a-892b-42dc-bc1b-544f37d39b4c",
   "metadata": {},
   "outputs": [
    {
     "data": {
      "text/plain": [
       "torch.Size([32, 1, 28, 28])"
      ]
     },
     "metadata": {},
     "output_type": "display_data"
    },
    {
     "data": {
      "text/plain": [
       "torch.Size([32])"
      ]
     },
     "metadata": {},
     "output_type": "display_data"
    }
   ],
   "source": [
    "X,y = dataloader.__iter__().__next__()\n",
    "display(X.shape,y.shape)"
   ]
  },
  {
   "cell_type": "code",
   "execution_count": 5,
   "id": "a92ddbbb-d614-4fff-b76e-9f88365e090b",
   "metadata": {},
   "outputs": [
    {
     "data": {
      "text/plain": [
       "Text(0.5, 1.0, 'tensor(7)')"
      ]
     },
     "execution_count": 5,
     "metadata": {},
     "output_type": "execute_result"
    },
    {
     "data": {
      "image/png": "[encoded data removed]",
      "text/plain": [
       "<Figure size 640x480 with 2 Axes>"
      ]
     },
     "metadata": {},
     "output_type": "display_data"
    }
   ],
   "source": [
    "# 纯黑色是0 纯白色是1\n",
    "fig,ax = d2l.plt.subplots(1,2)\n",
    "ax[0].imshow(X[0][0].numpy(),cmap='gray')\n",
    "ax[0].set_title(y[0])\n",
    "ax[1].imshow(X[1][0].numpy(),cmap='gray')\n",
    "ax[1].set_title(y[1])"
   ]
  },
  {
   "cell_type": "markdown",
   "id": "ad2aa281-bab7-4a21-8859-e79f8d7139ed",
   "metadata": {},
   "source": [
    "### Net"
   ]
  },
  {
   "cell_type": "code",
   "execution_count": 6,
   "id": "853ccef9-81e6-4b65-8d2a-f24cadbc0f48",
   "metadata": {},
   "outputs": [],
   "source": [
    "image_size = (1,28,28)\n",
    "latent_dim = 96\n",
    "device = torch.device('cuda')"
   ]
  },
  {
   "cell_type": "code",
   "execution_count": 7,
   "id": "bc0391f4-ed03-4b40-ad94-fa5287d0a97d",
   "metadata": {},
   "outputs": [],
   "source": [
    "class Generator(nn.Module):\n",
    "\n",
    "    def __init__(self):\n",
    "        super(Generator, self).__init__()\n",
    "\n",
    "        self.model = nn.Sequential(\n",
    "            \n",
    "            nn.Linear(latent_dim, 128),\n",
    "            # BN_1d in MLP: (batch,features)\n",
    "            # BN_2d in CNN: (batch,h,w)\n",
    "            torch.nn.BatchNorm1d(128),\n",
    "            torch.nn.GELU(),\n",
    "\n",
    "            nn.Linear(128, 256),\n",
    "            torch.nn.BatchNorm1d(256),\n",
    "            torch.nn.GELU(),\n",
    "            \n",
    "            nn.Linear(256, 512),\n",
    "            torch.nn.BatchNorm1d(512),\n",
    "            torch.nn.GELU(),\n",
    "            \n",
    "            nn.Linear(512, 1024),\n",
    "            torch.nn.BatchNorm1d(1024),\n",
    "            torch.nn.GELU(),\n",
    "            # 输出维度和正常照片一样\n",
    "            # np.prod(image_size) = 28*28\n",
    "            nn.Linear(1024, np.prod(image_size, dtype=np.int32)),\n",
    "            #  nn.Tanh()\n",
    "            nn.Sigmoid()\n",
    "        )\n",
    "\n",
    "    def forward(self, z):\n",
    "        # shape of z: [batchsize, latent_dim]\n",
    "\n",
    "        output = self.model(z)\n",
    "        image = output.reshape(z.shape[0], *image_size)\n",
    "\n",
    "        return image"
   ]
  },
  {
   "cell_type": "code",
   "execution_count": 8,
   "id": "51e91355-91c8-4998-ada1-619ed5363593",
   "metadata": {},
   "outputs": [],
   "source": [
    "class Discriminator(nn.Module):\n",
    "\n",
    "    def __init__(self):\n",
    "        super(Discriminator, self).__init__()\n",
    "\n",
    "        self.model = nn.Sequential(\n",
    "            nn.Linear(np.prod(image_size, dtype=np.int32), 512),\n",
    "            torch.nn.GELU(),\n",
    "            nn.Linear(512, 256),\n",
    "            torch.nn.GELU(),\n",
    "            nn.Linear(256, 128),\n",
    "            torch.nn.GELU(),\n",
    "            nn.Linear(128, 64),\n",
    "            torch.nn.GELU(),\n",
    "            nn.Linear(64, 32),\n",
    "            torch.nn.GELU(),\n",
    "            nn.Linear(32, 1),\n",
    "            # (0,1)\n",
    "            nn.Sigmoid(),\n",
    "        )\n",
    "\n",
    "    def forward(self, image):\n",
    "        # shape of image: [batchsize, 1, 28, 28]\n",
    "        # prob shape: (batch_size,1)\n",
    "        prob = self.model(image.reshape(image.shape[0], -1))\n",
    "\n",
    "        return prob"
   ]
  },
  {
   "cell_type": "markdown",
   "id": "56d64ed2-9001-48bf-b0c2-d0e1fd5239a6",
   "metadata": {},
   "source": [
    "### LOSS"
   ]
  },
  {
   "attachments": {
    "5c964957-1f40-4d82-a28a-c8b2833c9a4c.png": {
     "image/png": "[encoded data removed]"
    }
   },
   "cell_type": "markdown",
   "id": "c0c15dd9-8377-44fb-8822-9769a0a77555",
   "metadata": {},
   "source": [
    "![image.png](attachment:5c964957-1f40-4d82-a28a-c8b2833c9a4c.png)"
   ]
  },
  {
   "cell_type": "markdown",
   "id": "f28a3998-e069-4729-be74-ac4d6e70b0c6",
   "metadata": {},
   "source": [
    "训练Generator：随机生成Image, 丢给discriminator，得到loss <br>\n",
    "训练Discriminator：从生成数据和真实数据取样，丢给discriminator，得到loss"
   ]
  },
  {
   "cell_type": "code",
   "execution_count": 9,
   "id": "ccb87cba-ae2a-43a5-b457-ddf9f70e3652",
   "metadata": {},
   "outputs": [],
   "source": [
    "label_fake = torch.ones((batchsize,1),dtype=torch.float32).to(device)\n",
    "label_true = torch.zeros((batchsize,1),dtype=torch.float32).to(device)"
   ]
  },
  {
   "cell_type": "code",
   "execution_count": 19,
   "id": "9426ec6e-7469-469b-96dd-a4686a070ff4",
   "metadata": {},
   "outputs": [],
   "source": [
    "class G_loss(nn.Module):\n",
    "    def __init__(self):\n",
    "        super().__init__()\n",
    "        self.loss = nn.BCELoss(reduction='mean')\n",
    "    def forward(self,pred,target,true_img,g_img):\n",
    "        # pred/targe shape: [batchsize,1]\n",
    "        diff = torch.abs(true_img-g_img).mean()\n",
    "        loss = diff*0.05 + self.loss(pred,target)\n",
    "        return loss"
   ]
  },
  {
   "cell_type": "markdown",
   "id": "6a08c057-85e1-4948-b295-ce379092d86a",
   "metadata": {},
   "source": [
    "### 训练"
   ]
  },
  {
   "cell_type": "code",
   "execution_count": 20,
   "id": "9e1cc1e7-8cbf-4512-a272-248cb264fe0e",
   "metadata": {},
   "outputs": [],
   "source": [
    "generator = Generator().to(device)\n",
    "discriminator = Discriminator().to(device)\n",
    "\n",
    "g_optimizer = torch.optim.Adam(generator.parameters(), lr=0.0003, betas=(0.4, 0.8), weight_decay=0.0001)\n",
    "d_optimizer = torch.optim.Adam(discriminator.parameters(), lr=0.0003, betas=(0.4, 0.8), weight_decay=0.0001)\n",
    "D_loss = nn.BCELoss(reduction='mean')\n",
    "G_loss = G_loss()\n",
    "loss_fn = nn.BCELoss()"
   ]
  },
  {
   "cell_type": "code",
   "execution_count": 22,
   "id": "46349351-6018-40d7-a96e-745087c9d615",
   "metadata": {},
   "outputs": [
    {
     "name": "stdout",
     "output_type": "stream",
     "text": [
      "step:0,  g_loss:0.7508156895637512, d_loss:1.2278213500976562, real_loss:0.5624452829360962, fake_loss:0.6653760671615601\n",
      "step:1,  g_loss:0.8484680652618408, d_loss:1.1507432460784912, real_loss:0.4994063973426819, fake_loss:0.6513367891311646\n",
      "step:2,  g_loss:0.9246960282325745, d_loss:1.0117650032043457, real_loss:0.3906950354576111, fake_loss:0.6210700273513794\n",
      "step:3,  g_loss:1.140152931213379, d_loss:0.8578652739524841, real_loss:0.31633561849594116, fake_loss:0.541529655456543\n",
      "step:4,  g_loss:1.3831820487976074, d_loss:1.2637865543365479, real_loss:0.8724200129508972, fake_loss:0.3913666009902954\n",
      "step:5,  g_loss:1.0990855693817139, d_loss:1.029159665107727, real_loss:0.5199809074401855, fake_loss:0.5091787576675415\n",
      "step:6,  g_loss:0.9641956686973572, d_loss:1.260839581489563, real_loss:0.5388519763946533, fake_loss:0.7219876050949097\n",
      "step:7,  g_loss:1.0961394309997559, d_loss:0.982265830039978, real_loss:0.4584851562976837, fake_loss:0.5237806439399719\n",
      "step:8,  g_loss:1.0292729139328003, d_loss:1.113722562789917, real_loss:0.5398924350738525, fake_loss:0.5738301873207092\n",
      "step:9,  g_loss:1.2020591497421265, d_loss:1.0709474086761475, real_loss:0.5711950063705444, fake_loss:0.49975237250328064\n",
      "step:10,  g_loss:1.1503961086273193, d_loss:1.1099646091461182, real_loss:0.6265583038330078, fake_loss:0.48340627551078796\n",
      "step:11,  g_loss:1.3595306873321533, d_loss:0.8555611968040466, real_loss:0.4224916100502014, fake_loss:0.4330695867538452\n",
      "step:12,  g_loss:1.0118227005004883, d_loss:1.1594836711883545, real_loss:0.6359418630599976, fake_loss:0.5235417485237122\n",
      "step:13,  g_loss:1.1066805124282837, d_loss:1.0282752513885498, real_loss:0.5515128374099731, fake_loss:0.4767623543739319\n",
      "step:14,  g_loss:1.0737090110778809, d_loss:1.0629903078079224, real_loss:0.5115292072296143, fake_loss:0.5514611005783081\n",
      "step:15,  g_loss:1.0802279710769653, d_loss:1.0268328189849854, real_loss:0.3868764042854309, fake_loss:0.6399563550949097\n",
      "step:16,  g_loss:1.0678144693374634, d_loss:1.2812774181365967, real_loss:0.7198052406311035, fake_loss:0.5614721179008484\n",
      "step:17,  g_loss:1.4167661666870117, d_loss:0.9553738832473755, real_loss:0.5270639657974243, fake_loss:0.4283098876476288\n",
      "step:18,  g_loss:1.052614450454712, d_loss:1.0075907707214355, real_loss:0.4765852987766266, fake_loss:0.5310055017471313\n",
      "step:19,  g_loss:1.3823751211166382, d_loss:0.9803892374038696, real_loss:0.432580828666687, fake_loss:0.5478084087371826\n"
     ]
    }
   ],
   "source": [
    "epochs = 20\n",
    "for i in range(epochs):\n",
    "    for X,_ in dataloader:\n",
    "        X = X.to(device)\n",
    "        # 更新Generator\n",
    "        z = torch.randn(batchsize,latent_dim).to(device)\n",
    "        generator.train()\n",
    "        g_optimizer.zero_grad()\n",
    "        # g_img.shape: [batchsize,dims,h,w]\n",
    "        g_img = generator(z)\n",
    "        prob = discriminator(g_img)\n",
    "        \n",
    "        # g_loss = G_loss(prob,label_fake,X,g_img)\n",
    "        recons_loss = torch.abs(g_img-X).mean()\n",
    "        g_loss = recons_loss*0.05 + loss_fn(discriminator(g_img), label_true)\n",
    "        \n",
    "        g_loss.backward()\n",
    "        g_optimizer.step()\n",
    "            \n",
    "        # 更新Discriminator\n",
    "        discriminator.train()\n",
    "        d_optimizer.zero_grad()\n",
    "        loss_true = D_loss(discriminator(X),label_true)\n",
    "        loss_fake = D_loss(discriminator(g_img.detach()),label_fake)\n",
    "        d_loss = loss_true + loss_fake\n",
    "        d_loss.backward()\n",
    "        d_optimizer.step()\n",
    "\n",
    "        \n",
    "    # if i+1%50 == 0 or i == 5:\n",
    "    print(f\"step:{i},  g_loss:{g_loss.item()}, d_loss:{d_loss.mean()}, real_loss:{loss_true.mean()}, fake_loss:{loss_fake.mean()}\")"
   ]
  },
  {
   "cell_type": "code",
   "execution_count": 23,
   "id": "e5f03761-98c0-4810-a3b6-661a77ab565b",
   "metadata": {
    "scrolled": true
   },
   "outputs": [],
   "source": [
    "generator.eval()\n",
    "z = torch.randn(18,latent_dim).to(device)\n",
    "pred_img = generator(z).detach().to(torch.device('cpu'))"
   ]
  },
  {
   "cell_type": "code",
   "execution_count": 24,
   "id": "966c48b6-9b75-49bf-b231-68c71804d7bf",
   "metadata": {},
   "outputs": [
    {
     "data": {
      "text/plain": [
       "array([<Axes: >, <Axes: >, <Axes: >, <Axes: >, <Axes: >, <Axes: >,\n",
       "       <Axes: >, <Axes: >, <Axes: >, <Axes: >, <Axes: >, <Axes: >,\n",
       "       <Axes: >, <Axes: >, <Axes: >, <Axes: >, <Axes: >, <Axes: >],\n",
       "      dtype=object)"
      ]
     },
     "execution_count": 24,
     "metadata": {},
     "output_type": "execute_result"
    },
    {
     "data": {
      "image/png": "[encoded data removed]",
      "text/plain": [
       "<Figure size 1350x300 with 18 Axes>"
      ]
     },
     "metadata": {},
     "output_type": "display_data"
    }
   ],
   "source": [
    "d2l.show_images(pred_img.reshape(18,28,28),2,9)"
   ]
  }
 ],
 "metadata": {
  "kernelspec": {
   "display_name": "d2l_cuda",
   "language": "python",
   "name": "d2l_cuda"
  },
  "language_info": {
   "codemirror_mode": {
    "name": "ipython",
    "version": 3
   },
   "file_extension": ".py",
   "mimetype": "text/x-python",
   "name": "python",
   "nbconvert_exporter": "python",
   "pygments_lexer": "ipython3",
   "version": "3.9.19"
  }
 },
 "nbformat": 4,
 "nbformat_minor": 5
}
