{
 "cells": [
  {
   "cell_type": "code",
   "execution_count": 122,
   "id": "c432370c-5ff7-4a15-9eea-96733d4a1ea7",
   "metadata": {},
   "outputs": [],
   "source": [
    "import torch\n",
    "import torchvision\n",
    "import torch.nn as nn\n",
    "import numpy as np\n",
    "from d2l import torch as d2l"
   ]
  },
  {
   "cell_type": "markdown",
   "id": "1cb353cb-da56-4903-9fbc-cd371c81b4d7",
   "metadata": {},
   "source": [
    "### Load Dataset"
   ]
  },
  {
   "cell_type": "code",
   "execution_count": 123,
   "id": "c32e5ded-30dd-46e4-a443-996ff4d1a5a3",
   "metadata": {
    "scrolled": true
   },
   "outputs": [],
   "source": [
    "# ToTensor()会转到[0,1]\n",
    "trans = torchvision.transforms.Compose([torchvision.transforms.ToTensor()])\n",
    "dataset = torchvision.datasets.MNIST(\"mnist_data\", train=True, download=False,transform=trans)"
   ]
  },
  {
   "cell_type": "code",
   "execution_count": 124,
   "id": "cc51fee2-cb04-4851-9f3b-80c5f24c03ee",
   "metadata": {},
   "outputs": [],
   "source": [
    "batchsize = 32\n",
    "dataloader = torch.utils.data.DataLoader(dataset, batch_size=batchsize, shuffle=True)"
   ]
  },
  {
   "cell_type": "code",
   "execution_count": 125,
   "id": "42c7bf8a-892b-42dc-bc1b-544f37d39b4c",
   "metadata": {},
   "outputs": [
    {
     "data": {
      "text/plain": [
       "torch.Size([32, 1, 28, 28])"
      ]
     },
     "metadata": {},
     "output_type": "display_data"
    },
    {
     "data": {
      "text/plain": [
       "torch.Size([32])"
      ]
     },
     "metadata": {},
     "output_type": "display_data"
    }
   ],
   "source": [
    "X,y = dataloader.__iter__().__next__()\n",
    "display(X.shape,y.shape)"
   ]
  },
  {
   "cell_type": "code",
   "execution_count": 126,
   "id": "a92ddbbb-d614-4fff-b76e-9f88365e090b",
   "metadata": {},
   "outputs": [
    {
     "data": {
      "text/plain": [
       "Text(0.5, 1.0, 'tensor(2)')"
      ]
     },
     "execution_count": 126,
     "metadata": {},
     "output_type": "execute_result"
    },
    {
     "data": {
      "image/png": "[encoded data removed]",
      "text/plain": [
       "<Figure size 640x480 with 2 Axes>"
      ]
     },
     "metadata": {},
     "output_type": "display_data"
    }
   ],
   "source": [
    "# 纯黑色是0 纯白色是1\n",
    "fig,ax = d2l.plt.subplots(1,2)\n",
    "ax[0].imshow(X[0][0].numpy(),cmap='gray')\n",
    "ax[0].set_title(y[0])\n",
    "ax[1].imshow(X[1][0].numpy(),cmap='gray')\n",
    "ax[1].set_title(y[1])"
   ]
  },
  {
   "cell_type": "markdown",
   "id": "ad2aa281-bab7-4a21-8859-e79f8d7139ed",
   "metadata": {},
   "source": [
    "### Net"
   ]
  },
  {
   "cell_type": "code",
   "execution_count": 127,
   "id": "853ccef9-81e6-4b65-8d2a-f24cadbc0f48",
   "metadata": {},
   "outputs": [],
   "source": [
    "image_size = (1,28,28)\n",
    "latent_dim = 96\n",
    "device = torch.device('cuda')"
   ]
  },
  {
   "cell_type": "code",
   "execution_count": 128,
   "id": "bc0391f4-ed03-4b40-ad94-fa5287d0a97d",
   "metadata": {},
   "outputs": [],
   "source": [
    "class Generator(nn.Module):\n",
    "\n",
    "    def __init__(self):\n",
    "        super(Generator, self).__init__()\n",
    "\n",
    "        self.model = nn.Sequential(\n",
    "            \n",
    "            nn.Linear(latent_dim, 128),\n",
    "            # BN_1d in MLP: (batch,features)\n",
    "            # BN_2d in CNN: (batch,h,w)\n",
    "            torch.nn.BatchNorm1d(128),\n",
    "            torch.nn.GELU(),\n",
    "\n",
    "            nn.Linear(128, 256),\n",
    "            torch.nn.BatchNorm1d(256),\n",
    "            torch.nn.GELU(),\n",
    "            \n",
    "            nn.Linear(256, 512),\n",
    "            torch.nn.BatchNorm1d(512),\n",
    "            torch.nn.GELU(),\n",
    "            \n",
    "            nn.Linear(512, 1024),\n",
    "            torch.nn.BatchNorm1d(1024),\n",
    "            torch.nn.GELU(),\n",
    "            # 输出维度和正常照片一样\n",
    "            # np.prod(image_size) = 28*28\n",
    "            nn.Linear(1024, np.prod(image_size, dtype=np.int32)),\n",
    "            #  nn.Tanh()\n",
    "            nn.Sigmoid(),\n",
    "        )\n",
    "\n",
    "    def forward(self, z):\n",
    "        # shape of z: [batchsize, latent_dim]\n",
    "\n",
    "        output = self.model(z)\n",
    "        image = output.reshape(z.shape[0], *image_size)\n",
    "\n",
    "        return image"
   ]
  },
  {
   "cell_type": "code",
   "execution_count": 129,
   "id": "51e91355-91c8-4998-ada1-619ed5363593",
   "metadata": {},
   "outputs": [],
   "source": [
    "class Discriminator(nn.Module):\n",
    "\n",
    "    def __init__(self):\n",
    "        super(Discriminator, self).__init__()\n",
    "\n",
    "        self.model = nn.Sequential(\n",
    "            nn.Linear(np.prod(image_size, dtype=np.int32), 512),\n",
    "            torch.nn.GELU(),\n",
    "            nn.Linear(512, 256),\n",
    "            torch.nn.GELU(),\n",
    "            nn.Linear(256, 128),\n",
    "            torch.nn.GELU(),\n",
    "            nn.Linear(128, 64),\n",
    "            torch.nn.GELU(),\n",
    "            nn.Linear(64, 32),\n",
    "            torch.nn.GELU(),\n",
    "            nn.Linear(32, 1),\n",
    "            # (0,1)\n",
    "            nn.Sigmoid(),\n",
    "        )\n",
    "\n",
    "    def forward(self, image):\n",
    "        # shape of image: [batchsize, 1, 28, 28]\n",
    "        # prob shape: (batch_size,1)\n",
    "        prob = self.model(image.reshape(image.shape[0], -1))\n",
    "\n",
    "        return prob"
   ]
  },
  {
   "cell_type": "markdown",
   "id": "56d64ed2-9001-48bf-b0c2-d0e1fd5239a6",
   "metadata": {},
   "source": [
    "### LOSS"
   ]
  },
  {
   "attachments": {
    "5c964957-1f40-4d82-a28a-c8b2833c9a4c.png": {
     "image/png": "[encoded data removed]"
    }
   },
   "cell_type": "markdown",
   "id": "c0c15dd9-8377-44fb-8822-9769a0a77555",
   "metadata": {},
   "source": [
    "![image.png](attachment:5c964957-1f40-4d82-a28a-c8b2833c9a4c.png)"
   ]
  },
  {
   "cell_type": "markdown",
   "id": "f28a3998-e069-4729-be74-ac4d6e70b0c6",
   "metadata": {},
   "source": [
    "训练Generator：随机生成Image, 丢给discriminator，得到loss <br>\n",
    "训练Discriminator：从生成数据和真实数据取样，丢给discriminator，得到loss"
   ]
  },
  {
   "cell_type": "code",
   "execution_count": 130,
   "id": "ccb87cba-ae2a-43a5-b457-ddf9f70e3652",
   "metadata": {},
   "outputs": [],
   "source": [
    "label_fake = torch.ones((batchsize,1),dtype=torch.float32).to(device)\n",
    "label_true = torch.zeros((batchsize,1),dtype=torch.float32).to(device)"
   ]
  },
  {
   "cell_type": "code",
   "execution_count": 131,
   "id": "9426ec6e-7469-469b-96dd-a4686a070ff4",
   "metadata": {},
   "outputs": [],
   "source": [
    "class G_loss(nn.Module):\n",
    "    def __init__(self):\n",
    "        super().__init__()\n",
    "        self.loss = nn.BCELoss(reduction='mean')\n",
    "    def forward(self,pred,target,true_img,g_img):\n",
    "        # pred/targe shape: [batchsize,1]\n",
    "        diff = torch.abs(true_img-g_img).mean()\n",
    "        loss = diff*0.05 + self.loss(pred,target)\n",
    "        return loss"
   ]
  },
  {
   "cell_type": "markdown",
   "id": "6a08c057-85e1-4948-b295-ce379092d86a",
   "metadata": {},
   "source": [
    "### 训练"
   ]
  },
  {
   "cell_type": "code",
   "execution_count": 132,
   "id": "9e1cc1e7-8cbf-4512-a272-248cb264fe0e",
   "metadata": {},
   "outputs": [],
   "source": [
    "generator = Generator().to(device)\n",
    "discriminator = Discriminator().to(device)\n",
    "\n",
    "g_optimizer = torch.optim.Adam(generator.parameters(), lr=0.0003, betas=(0.4, 0.8), weight_decay=0.0001)\n",
    "d_optimizer = torch.optim.Adam(discriminator.parameters(), lr=0.0003, betas=(0.4, 0.8), weight_decay=0.0001)\n",
    "D_loss = nn.BCELoss(reduction='none')\n",
    "G_loss = G_loss()"
   ]
  },
  {
   "cell_type": "code",
   "execution_count": 135,
   "id": "46349351-6018-40d7-a96e-745087c9d615",
   "metadata": {},
   "outputs": [
    {
     "ename": "KeyboardInterrupt",
     "evalue": "",
     "output_type": "error",
     "traceback": [
      "\u001b[1;31m---------------------------------------------------------------------------\u001b[0m",
      "\u001b[1;31mKeyboardInterrupt\u001b[0m                         Traceback (most recent call last)",
      "Cell \u001b[1;32mIn[135], line 22\u001b[0m\n\u001b[0;32m     20\u001b[0m     loss_fake \u001b[38;5;241m=\u001b[39m D_loss(discriminator(g_img\u001b[38;5;241m.\u001b[39mdetach()),label_fake)\n\u001b[0;32m     21\u001b[0m     d_loss \u001b[38;5;241m=\u001b[39m loss_true \u001b[38;5;241m+\u001b[39m loss_fake\n\u001b[1;32m---> 22\u001b[0m     \u001b[43md_loss\u001b[49m\u001b[38;5;241;43m.\u001b[39;49m\u001b[43mmean\u001b[49m\u001b[43m(\u001b[49m\u001b[43m)\u001b[49m\u001b[38;5;241;43m.\u001b[39;49m\u001b[43mbackward\u001b[49m\u001b[43m(\u001b[49m\u001b[43m)\u001b[49m\n\u001b[0;32m     23\u001b[0m     d_optimizer\u001b[38;5;241m.\u001b[39mstep()\n\u001b[0;32m     25\u001b[0m \u001b[38;5;66;03m# if i+1%50 == 0 or i == 5:\u001b[39;00m\n",
      "File \u001b[1;32m~\\.conda\\envs\\d2l\\lib\\site-packages\\torch\\_tensor.py:521\u001b[0m, in \u001b[0;36mTensor.backward\u001b[1;34m(self, gradient, retain_graph, create_graph, inputs)\u001b[0m\n\u001b[0;32m    511\u001b[0m \u001b[38;5;28;01mif\u001b[39;00m has_torch_function_unary(\u001b[38;5;28mself\u001b[39m):\n\u001b[0;32m    512\u001b[0m     \u001b[38;5;28;01mreturn\u001b[39;00m handle_torch_function(\n\u001b[0;32m    513\u001b[0m         Tensor\u001b[38;5;241m.\u001b[39mbackward,\n\u001b[0;32m    514\u001b[0m         (\u001b[38;5;28mself\u001b[39m,),\n\u001b[1;32m   (...)\u001b[0m\n\u001b[0;32m    519\u001b[0m         inputs\u001b[38;5;241m=\u001b[39minputs,\n\u001b[0;32m    520\u001b[0m     )\n\u001b[1;32m--> 521\u001b[0m \u001b[43mtorch\u001b[49m\u001b[38;5;241;43m.\u001b[39;49m\u001b[43mautograd\u001b[49m\u001b[38;5;241;43m.\u001b[39;49m\u001b[43mbackward\u001b[49m\u001b[43m(\u001b[49m\n\u001b[0;32m    522\u001b[0m \u001b[43m    \u001b[49m\u001b[38;5;28;43mself\u001b[39;49m\u001b[43m,\u001b[49m\u001b[43m \u001b[49m\u001b[43mgradient\u001b[49m\u001b[43m,\u001b[49m\u001b[43m \u001b[49m\u001b[43mretain_graph\u001b[49m\u001b[43m,\u001b[49m\u001b[43m \u001b[49m\u001b[43mcreate_graph\u001b[49m\u001b[43m,\u001b[49m\u001b[43m \u001b[49m\u001b[43minputs\u001b[49m\u001b[38;5;241;43m=\u001b[39;49m\u001b[43minputs\u001b[49m\n\u001b[0;32m    523\u001b[0m \u001b[43m\u001b[49m\u001b[43m)\u001b[49m\n",
      "File \u001b[1;32m~\\.conda\\envs\\d2l\\lib\\site-packages\\torch\\autograd\\__init__.py:289\u001b[0m, in \u001b[0;36mbackward\u001b[1;34m(tensors, grad_tensors, retain_graph, create_graph, grad_variables, inputs)\u001b[0m\n\u001b[0;32m    284\u001b[0m     retain_graph \u001b[38;5;241m=\u001b[39m create_graph\n\u001b[0;32m    286\u001b[0m \u001b[38;5;66;03m# The reason we repeat the same comment below is that\u001b[39;00m\n\u001b[0;32m    287\u001b[0m \u001b[38;5;66;03m# some Python versions print out the first line of a multi-line function\u001b[39;00m\n\u001b[0;32m    288\u001b[0m \u001b[38;5;66;03m# calls in the traceback and some print out the last line\u001b[39;00m\n\u001b[1;32m--> 289\u001b[0m \u001b[43m_engine_run_backward\u001b[49m\u001b[43m(\u001b[49m\n\u001b[0;32m    290\u001b[0m \u001b[43m    \u001b[49m\u001b[43mtensors\u001b[49m\u001b[43m,\u001b[49m\n\u001b[0;32m    291\u001b[0m \u001b[43m    \u001b[49m\u001b[43mgrad_tensors_\u001b[49m\u001b[43m,\u001b[49m\n\u001b[0;32m    292\u001b[0m \u001b[43m    \u001b[49m\u001b[43mretain_graph\u001b[49m\u001b[43m,\u001b[49m\n\u001b[0;32m    293\u001b[0m \u001b[43m    \u001b[49m\u001b[43mcreate_graph\u001b[49m\u001b[43m,\u001b[49m\n\u001b[0;32m    294\u001b[0m \u001b[43m    \u001b[49m\u001b[43minputs\u001b[49m\u001b[43m,\u001b[49m\n\u001b[0;32m    295\u001b[0m \u001b[43m    \u001b[49m\u001b[43mallow_unreachable\u001b[49m\u001b[38;5;241;43m=\u001b[39;49m\u001b[38;5;28;43;01mTrue\u001b[39;49;00m\u001b[43m,\u001b[49m\n\u001b[0;32m    296\u001b[0m \u001b[43m    \u001b[49m\u001b[43maccumulate_grad\u001b[49m\u001b[38;5;241;43m=\u001b[39;49m\u001b[38;5;28;43;01mTrue\u001b[39;49;00m\u001b[43m,\u001b[49m\n\u001b[0;32m    297\u001b[0m \u001b[43m\u001b[49m\u001b[43m)\u001b[49m\n",
      "File \u001b[1;32m~\\.conda\\envs\\d2l\\lib\\site-packages\\torch\\autograd\\graph.py:769\u001b[0m, in \u001b[0;36m_engine_run_backward\u001b[1;34m(t_outputs, *args, **kwargs)\u001b[0m\n\u001b[0;32m    767\u001b[0m     unregister_hooks \u001b[38;5;241m=\u001b[39m _register_logging_hooks_on_whole_graph(t_outputs)\n\u001b[0;32m    768\u001b[0m \u001b[38;5;28;01mtry\u001b[39;00m:\n\u001b[1;32m--> 769\u001b[0m     \u001b[38;5;28;01mreturn\u001b[39;00m Variable\u001b[38;5;241m.\u001b[39m_execution_engine\u001b[38;5;241m.\u001b[39mrun_backward(  \u001b[38;5;66;03m# Calls into the C++ engine to run the backward pass\u001b[39;00m\n\u001b[0;32m    770\u001b[0m         t_outputs, \u001b[38;5;241m*\u001b[39margs, \u001b[38;5;241m*\u001b[39m\u001b[38;5;241m*\u001b[39mkwargs\n\u001b[0;32m    771\u001b[0m     )  \u001b[38;5;66;03m# Calls into the C++ engine to run the backward pass\u001b[39;00m\n\u001b[0;32m    772\u001b[0m \u001b[38;5;28;01mfinally\u001b[39;00m:\n\u001b[0;32m    773\u001b[0m     \u001b[38;5;28;01mif\u001b[39;00m attach_logging_hooks:\n",
      "\u001b[1;31mKeyboardInterrupt\u001b[0m: "
     ]
    }
   ],
   "source": [
    "epochs = 10\n",
    "for i in range(epochs):\n",
    "    for X,_ in dataloader:\n",
    "        X = X.to(device)\n",
    "        # 更新Generator\n",
    "        z = torch.randn(batchsize,latent_dim).to(device)\n",
    "        generator.train()\n",
    "        g_optimizer.zero_grad()\n",
    "        # g_img.shape: [batchsize,dims,h,w]\n",
    "        g_img = generator(z)\n",
    "        prob = discriminator(g_img)\n",
    "        g_loss = G_loss(prob,label_fake,X,g_img)\n",
    "        g_loss.backward()\n",
    "        g_optimizer.step()\n",
    "\n",
    "        # 更新Discriminator\n",
    "        discriminator.train()\n",
    "        d_optimizer.zero_grad()\n",
    "        loss_true = D_loss(discriminator(X),label_true)\n",
    "        loss_fake = D_loss(discriminator(g_img.detach()),label_fake)\n",
    "        d_loss = loss_true + loss_fake\n",
    "        d_loss.mean().backward()\n",
    "        d_optimizer.step()\n",
    "\n",
    "    # if i+1%50 == 0 or i == 5:\n",
    "    print(f\"step:{i},  g_loss:{g_loss.item()}, d_loss:{d_loss.mean()}, real_loss:{loss_true.mean()}, fake_loss:{loss_fake.mean()}\")"
   ]
  },
  {
   "cell_type": "code",
   "execution_count": null,
   "id": "e5f03761-98c0-4810-a3b6-661a77ab565b",
   "metadata": {
    "scrolled": true
   },
   "outputs": [],
   "source": [
    "generator.eval()\n",
    "z = torch.randn(18,latent_dim).to(device)\n",
    "pred_img = generator(z).detach().to(torch.device('cpu'))"
   ]
  },
  {
   "cell_type": "code",
   "execution_count": null,
   "id": "966c48b6-9b75-49bf-b231-68c71804d7bf",
   "metadata": {},
   "outputs": [],
   "source": [
    "d2l.show_images(pred_img.reshape(18,28,28),2,9)"
   ]
  },
  {
   "cell_type": "code",
   "execution_count": null,
   "id": "9d824db1-27e4-4811-b34e-b70299547ac0",
   "metadata": {},
   "outputs": [],
   "source": []
  }
 ],
 "metadata": {
  "kernelspec": {
   "display_name": "d2l",
   "language": "python",
   "name": "d2l"
  },
  "language_info": {
   "codemirror_mode": {
    "name": "ipython",
    "version": 3
   },
   "file_extension": ".py",
   "mimetype": "text/x-python",
   "name": "python",
   "nbconvert_exporter": "python",
   "pygments_lexer": "ipython3",
   "version": "3.9.19"
  }
 },
 "nbformat": 4,
 "nbformat_minor": 5
}
